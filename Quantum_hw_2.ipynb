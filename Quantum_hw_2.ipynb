{
  "nbformat": 4,
  "nbformat_minor": 0,
  "metadata": {
    "colab": {
      "provenance": [],
      "authorship_tag": "ABX9TyO6oRipqk+AC0acZXMWtGhT",
      "include_colab_link": true
    },
    "kernelspec": {
      "name": "python3",
      "display_name": "Python 3"
    },
    "language_info": {
      "name": "python"
    }
  },
  "cells": [
    {
      "cell_type": "markdown",
      "metadata": {
        "id": "view-in-github",
        "colab_type": "text"
      },
      "source": [
        "<a href=\"https://colab.research.google.com/github/Zyuuu-G/Quantum_code/blob/main/Quantum_hw_2.ipynb\" target=\"_parent\"><img src=\"https://colab.research.google.com/assets/colab-badge.svg\" alt=\"Open In Colab\"/></a>"
      ]
    },
    {
      "cell_type": "code",
      "execution_count": null,
      "metadata": {
        "id": "hZnw2msZfXdD"
      },
      "outputs": [],
      "source": [
        "import numpy as np\n",
        "import matplotlib.pyplot as plt\n",
        "from matplotlib.patches import PathPatch"
      ]
    },
    {
      "cell_type": "markdown",
      "source": [
        "##Quantum hw 2\n",
        "####Ziyu Gao\n",
        "####03/02/2023"
      ],
      "metadata": {
        "id": "3RS4nuXojBLZ"
      }
    },
    {
      "cell_type": "markdown",
      "source": [
        "#####problem 1.\n",
        "a) I assume that the it'll have 100% (+z) and 0% (-z), because the effect of X & Y measurements are erased so goes back to the very first state (all +z). Then all +z goes through z measurement will produce all +z.\n",
        "\n",
        "b) The simulation perfectly agrees with the prediction in part a).\n"
      ],
      "metadata": {
        "id": "6qmYIZRbyZ1I"
      }
    },
    {
      "cell_type": "code",
      "source": [
        "### text problem 1.9\n",
        "\n",
        "# a) find normalization constant A\n",
        "\n",
        "xmin=0\n",
        "xmax=20\n",
        "num_points=800\n",
        "\n",
        "x = np.linspace(xmin,xmax,num_points)\n",
        "psi = x*(1-x)*np.exp(-x) # (x>0) , psi = 0 (x<0)\n",
        "psi_square = np.real_if_close(np.conjugate(psi)*psi)\n",
        "prob_tot = np.trapz(psi_square,x)\n",
        "print('total probability: ',prob_tot)\n",
        "\n",
        "A = 1/np.sqrt(prob_tot)\n",
        "print('normalization factor A = ',A)\n",
        "\n",
        "psi_norm = A*psi\n",
        "psi_norm_square = np.real_if_close(np.conjugate(psi_norm)*psi_norm)\n",
        "prob_norm_tot = np.trapz(psi_norm_square,x)\n",
        "print('normalized total probability: ',prob_norm_tot)\n"
      ],
      "metadata": {
        "colab": {
          "base_uri": "https://localhost:8080/"
        },
        "id": "vnEIQ_F0jAXI",
        "outputId": "3ba77586-3caa-4576-cf91-84da7e4422ac"
      },
      "execution_count": null,
      "outputs": [
        {
          "output_type": "stream",
          "name": "stdout",
          "text": [
            "total probability:  0.24999998692067396\n",
            "normalization factor A =  2.0000000523173065\n",
            "normalized total probability:  1.0000000000000002\n"
          ]
        }
      ]
    },
    {
      "cell_type": "code",
      "source": [
        "# b) plot psi and |psi|^2\n",
        "\n",
        "fig, (ax1,ax2) = plt.subplots(2,1,sharex=True)\n",
        "plt.xlim(right=10) \n",
        "plt.xlim(left=0) \n",
        "\n",
        "ax1.plot(x,np.real(psi_norm),x,np.imag(psi_norm))\n",
        "ax1.legend(title='$\\psi$',labels=['real','imag'])\n",
        "\n",
        "ax2.plot(x,psi_norm_square)\n",
        "ax2.legend(title='$\\psi^2$')\n",
        "\n",
        "# c) probability of fnding it at x < 1 is about 7%, estimated by looking at the portion of occcupied area"
      ],
      "metadata": {
        "colab": {
          "base_uri": "https://localhost:8080/",
          "height": 301
        },
        "id": "tPUQoAm-p5LV",
        "outputId": "bef4851e-9a03-4bcf-ee0f-d2b47a80f981"
      },
      "execution_count": null,
      "outputs": [
        {
          "output_type": "stream",
          "name": "stderr",
          "text": [
            "WARNING:matplotlib.legend:No handles with labels found to put in legend.\n"
          ]
        },
        {
          "output_type": "execute_result",
          "data": {
            "text/plain": [
              "<matplotlib.legend.Legend at 0x7f7c188c68b0>"
            ]
          },
          "metadata": {},
          "execution_count": 92
        },
        {
          "output_type": "display_data",
          "data": {
            "text/plain": [
              "<Figure size 432x288 with 2 Axes>"
            ],
            "image/png": "[encoded data removed]"
          },
          "metadata": {
            "needs_background": "light"
          }
        }
      ]
    },
    {
      "cell_type": "markdown",
      "source": [],
      "metadata": {
        "id": "y3Z8ZHxBTInh"
      }
    },
    {
      "cell_type": "code",
      "source": [
        "# d) claculate part c) \n",
        "\n",
        "x01 = np.linspace(0,1,500)\n",
        "psi_d = A*x01*(1-x01)*np.exp(-x01)\n",
        "psi_d_sq = np.real_if_close(np.conjugate(psi_d)*psi_d)\n",
        "prob_01 = np.trapz(psi_d_sq,x01)\n",
        "\n",
        "print('the probability og finding \"it\" between 0~1 is : ',prob_01)\n",
        "\n",
        "# 5 percent looks resonable"
      ],
      "metadata": {
        "colab": {
          "base_uri": "https://localhost:8080/"
        },
        "id": "k4WrktEdwt96",
        "outputId": "c87ce8e6-8f60-4ce4-a551-0cec4cd3bacb"
      },
      "execution_count": null,
      "outputs": [
        {
          "output_type": "stream",
          "name": "stdout",
          "text": [
            "the probability og finding \"it\" between 0~1 is :  0.05265302009622476\n"
          ]
        }
      ]
    },
    {
      "cell_type": "code",
      "source": [
        "# e) we are most likly to find the particle at the peak of the \"psi squred\" graph,\n",
        "# which is near x = 2.6 (zoomed in on the graph to estimate that)."
      ],
      "metadata": {
        "id": "TXXhv-GLtvXt"
      },
      "execution_count": null,
      "outputs": []
    },
    {
      "cell_type": "code",
      "source": [
        "### text problem 1.11\n",
        "\n",
        "# Sketch a portion (a few cycles) of the wavefunction of a particle in\n",
        "# one dimension with a well-definned momentum that is negative.\n",
        "\n",
        "k=-2\n",
        "phi = 0\n",
        "x2=np.linspace(-5,5,200)\n",
        "cmap = plt.get_cmap('hsv')\n",
        "\n",
        "psi2 = np.exp(1j*(k*x2+phi)) # if p_x is well defined, position is not, so here I just use a simple sinusoidal \n",
        "prob2 = np.real_if_close(np.conjugate(psi2)*psi2)\n",
        "phase = np.angle(psi2)\n",
        "\n",
        "fig, (p1,p2) = plt.subplots(2,1,sharex=True)\n",
        "p1.plot(x2,np.real(psi2),'k-',x2,np.imag(psi2),'r--')\n",
        "p1.legend(labels=['real','imag'])\n",
        "\n",
        "p2.plot(x2,prob2)\n",
        "\n",
        "poly = p2.fill_between(x2,0, prob2, color='none')\n",
        "img = p2.imshow(phase.reshape(1, -1), extent=[x2[0], x2[-1], 0, prob2.max()], cmap=cmap, aspect='auto')\n",
        "clip_poly = PathPatch(poly.get_paths()[0], transform=p2.transData)\n",
        "img.set_clip_path(clip_poly)\n",
        "\n",
        "plt.show()"
      ],
      "metadata": {
        "colab": {
          "base_uri": "https://localhost:8080/",
          "height": 265
        },
        "id": "XeUZA-fY1B58",
        "outputId": "709452bd-f947-4973-ff4c-2d183646384e"
      },
      "execution_count": null,
      "outputs": [
        {
          "output_type": "display_data",
          "data": {
            "text/plain": [
              "<Figure size 432x288 with 2 Axes>"
            ],
            "image/png": "[encoded data removed]"
          },
          "metadata": {
            "needs_background": "light"
          }
        }
      ]
    },
    {
      "cell_type": "code",
      "source": [
        "### problem 1.13\n",
        "\n",
        "# a) alpha should have unit of \"area\"(something like m^2), because (alpha)*(x^2) should be unitless(rad)\n",
        "\n",
        "\n",
        "\n",
        "# b) Well, since I suck at maths, I'll use python to solve:\n",
        "\n",
        "x3 = np.linspace(-1e-8,1e-8,800) # the range were estimated by plotting the function on desmos \n",
        "a = 1.2e18 # alpha\n",
        "psi3 = np.exp(-a*x3*x3)\n",
        "psi3_sq = np.real_if_close(np.conjugate(psi3)*psi3)\n",
        "prob_3 = np.trapz(psi3_sq,x3)\n",
        "print('un-normalized prob: ',prob_3)\n",
        "\n",
        "A3 = 1/np.sqrt(prob_3)\n",
        "print('normalization factor A = ',A3)\n",
        "\n",
        "psi3_norm = A3*psi3\n",
        "psi3_norm_sq = np.real_if_close(np.conjugate(psi3_norm)*psi3_norm)\n",
        "prob3_norm = np.trapz(psi3_norm_sq,x3)\n",
        "print('normalized total probability: ',prob3_norm)\n",
        "# A should be unitless (I think)"
      ],
      "metadata": {
        "colab": {
          "base_uri": "https://localhost:8080/"
        },
        "id": "HfMHtkNmCqXd",
        "outputId": "3a7c557c-a94c-464f-eb76-c798af6f2668"
      },
      "execution_count": null,
      "outputs": [
        {
          "output_type": "stream",
          "name": "stdout",
          "text": [
            "un-normalized prob:  1.1441140410797113e-09\n",
            "normalization factor A =  29564.146266612588\n",
            "normalized total probability:  0.9999999999999999\n"
          ]
        }
      ]
    },
    {
      "cell_type": "code",
      "source": [
        "# c) prob finding \"it\" between x = 0 ~ 0.5nm\n",
        "\n",
        "x3c = np.linspace(0,0.5e-9,800)\n",
        "\n",
        "psi3c = A3*np.exp(-a*x3c*x3c)\n",
        "psi3c_sq = np.real_if_close(np.conjugate(psi3c)*psi3c)\n",
        "prob_3c = np.trapz(psi3c_sq,x3c)\n",
        "print('the probability og finding \"it\" between 0~0.5nm is : ',prob_3c)"
      ],
      "metadata": {
        "colab": {
          "base_uri": "https://localhost:8080/"
        },
        "id": "waHuaPgKKxbn",
        "outputId": "436c481b-9c79-43a8-acbc-33977155c4e9"
      },
      "execution_count": null,
      "outputs": [
        {
          "output_type": "stream",
          "name": "stdout",
          "text": [
            "the probability og finding \"it\" between 0~0.5nm is :  0.363339123284779\n"
          ]
        }
      ]
    },
    {
      "cell_type": "code",
      "source": [
        "# d) I don't know, the probalility wave function collapse and no longer exists (for this particle)? Now it has a defined position."
      ],
      "metadata": {
        "id": "UzBG_0H3MYw1"
      },
      "execution_count": null,
      "outputs": []
    }
  ]
}