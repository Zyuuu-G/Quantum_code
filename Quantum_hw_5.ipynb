{
  "nbformat": 4,
  "nbformat_minor": 0,
  "metadata": {
    "colab": {
      "provenance": [],
      "authorship_tag": "ABX9TyO5Zmm+ds7Tp9uqGnJ4/9lz",
      "include_colab_link": true
    },
    "kernelspec": {
      "name": "python3",
      "display_name": "Python 3"
    },
    "language_info": {
      "name": "python"
    }
  },
  "cells": [
    {
      "cell_type": "markdown",
      "metadata": {
        "id": "view-in-github",
        "colab_type": "text"
      },
      "source": [
        "<a href=\"https://colab.research.google.com/github/Zyuuu-G/Quantum_code/blob/main/Quantum_hw_5.ipynb\" target=\"_parent\"><img src=\"https://colab.research.google.com/assets/colab-badge.svg\" alt=\"Open In Colab\"/></a>"
      ]
    },
    {
      "cell_type": "code",
      "source": [
        "import numpy as np\n",
        "import matplotlib.pyplot as plt"
      ],
      "metadata": {
        "id": "v10YduluVoQp"
      },
      "execution_count": null,
      "outputs": []
    },
    {
      "cell_type": "markdown",
      "source": [
        "# Quantum hw 5\n",
        "\n",
        "Ziyu Gao\n",
        "\n",
        "2/21/2023"
      ],
      "metadata": {
        "id": "EHxbMguEVXbS"
      }
    },
    {
      "cell_type": "code",
      "execution_count": null,
      "metadata": {
        "id": "giqT4SdHVWFO"
      },
      "outputs": [],
      "source": [
        "# shooting method\n",
        "\n",
        "\n",
        "### Schroeder 2.11 \n",
        "\n",
        "def IntegrateTISE(x,V,E,psi0=0,psi1=1e-6):  ### *** why is psi1 1e-6 ? *** how do I KNOW if it's small enough\n",
        "    # setup everything\n",
        "    psi = np.zeros_like(x)\n",
        "    psi[0] = psi0\n",
        "    psi[1] = psi1\n",
        "    dx = x[1]-x[0]\n",
        "    N = len(x)\n",
        "    \n",
        "    #calculate things \n",
        "    for i in range(2,N):\n",
        "        thisPsi = psi[i-1]\n",
        "        lastPsi = psi[i-2]\n",
        "        psi[i] = 2*thisPsi*(1-dx**2 *(E-V[i])) - lastPsi\n",
        "        \n",
        "    return psi"
      ]
    },
    {
      "cell_type": "code",
      "source": [
        "xmin = -2\n",
        "xmax = 2\n",
        "dx = .01\n",
        "a=1\n",
        "\n",
        "x = np.arange(xmin,xmax,dx)\n",
        "V = np.piecewise(x, [x < -a/2, ((-a/2<= x) & (x <= a/2)), x>a/2], [50, 0, 50])\n",
        "\n",
        "plt.plot(x,V)"
      ],
      "metadata": {
        "colab": {
          "base_uri": "https://localhost:8080/",
          "height": 283
        },
        "id": "7WYU--jkaPIR",
        "outputId": "2de1783d-5fbf-409f-959f-448c69b64a2c"
      },
      "execution_count": null,
      "outputs": [
        {
          "output_type": "execute_result",
          "data": {
            "text/plain": [
              "[<matplotlib.lines.Line2D at 0x7f4edabd3c10>]"
            ]
          },
          "metadata": {},
          "execution_count": 280
        },
        {
          "output_type": "display_data",
          "data": {
            "text/plain": [
              "<Figure size 432x288 with 1 Axes>"
            ],
            "image/png": "[encoded data removed]"
          },
          "metadata": {
            "needs_background": "light"
          }
        }
      ]
    },
    {
      "cell_type": "code",
      "source": [
        "psi = IntegrateTISE(x,V,3.41204667)\n",
        "plt.plot(x,psi)"
      ],
      "metadata": {
        "colab": {
          "base_uri": "https://localhost:8080/",
          "height": 283
        },
        "id": "R96Bi-4kccL_",
        "outputId": "aeade5ea-929e-4aef-ff60-035a1e4e4972"
      },
      "execution_count": null,
      "outputs": [
        {
          "output_type": "execute_result",
          "data": {
            "text/plain": [
              "[<matplotlib.lines.Line2D at 0x7f4edadf3250>]"
            ]
          },
          "metadata": {},
          "execution_count": 281
        },
        {
          "output_type": "display_data",
          "data": {
            "text/plain": [
              "<Figure size 432x288 with 1 Axes>"
            ],
            "image/png": "[encoded data removed]"
          },
          "metadata": {
            "needs_background": "light"
          }
        }
      ]
    },
    {
      "cell_type": "code",
      "source": [
        "print('for 4 decimal places, the percentage difference is',(3.41204667-3.4120)/3.41204667)"
      ],
      "metadata": {
        "colab": {
          "base_uri": "https://localhost:8080/"
        },
        "id": "_wfvDoFitvu-",
        "outputId": "d80c511d-b6b0-45c0-e503-170fbf5855c9"
      },
      "execution_count": null,
      "outputs": [
        {
          "output_type": "stream",
          "name": "stdout",
          "text": [
            "for 4 decimal places, the percentage difference is 1.3678007516860088e-05\n"
          ]
        }
      ]
    },
    {
      "cell_type": "code",
      "source": [
        "\n",
        "E_low = 3\n",
        "E_high = 4\n",
        "\n",
        "psi_low = IntegrateTISE(x,V,E_low)\n",
        "psi_high = IntegrateTISE(x,V,E_high)\n",
        "plt.plot(x,psi_low,x,psi_high)\n",
        "plt.show()\n",
        "\n",
        "E_mid = (E_high+E_low)/2\n",
        "psi_mid = IntegrateTISE(x,V,E_mid)\n",
        "\n",
        "while abs(psi_mid[-1])>100:\n",
        "    if np.sign(psi_mid[-1])==np.sign(psi_low[-1]):\n",
        "        # mid guess and low guess match so new energy is between mid and high \n",
        "        E_low = E_mid\n",
        "        psi_low = psi_mid\n",
        "        E_mid = (E_high+E_low)/2\n",
        "        psi_mid = IntegrateTISE(x,V,E_mid)\n",
        "        print('low and mid match',E_mid)\n",
        "    else:\n",
        "        # mid guess and high guess match so new energy is between low and mid\n",
        "        E_high = E_mid\n",
        "        psi_high = psi_mid\n",
        "        E_mid = (E_high+E_low)/2\n",
        "        psi_mid = IntegrateTISE(x,V,E_mid)\n",
        "        print('high and mid match',E_mid)\n",
        "            "
      ],
      "metadata": {
        "colab": {
          "base_uri": "https://localhost:8080/",
          "height": 508
        },
        "id": "HmOJkYXhVc_K",
        "outputId": "baa735a3-2e90-4cbd-fb3a-675bc29debfc"
      },
      "execution_count": null,
      "outputs": [
        {
          "output_type": "display_data",
          "data": {
            "text/plain": [
              "<Figure size 432x288 with 1 Axes>"
            ],
            "image/png": "[encoded data removed]"
          },
          "metadata": {
            "needs_background": "light"
          }
        },
        {
          "output_type": "stream",
          "name": "stdout",
          "text": [
            "high and mid match 3.25\n",
            "low and mid match 3.375\n",
            "low and mid match 3.4375\n",
            "high and mid match 3.40625\n",
            "low and mid match 3.421875\n",
            "high and mid match 3.4140625\n",
            "high and mid match 3.41015625\n",
            "low and mid match 3.412109375\n",
            "high and mid match 3.4111328125\n",
            "low and mid match 3.41162109375\n",
            "low and mid match 3.411865234375\n",
            "low and mid match 3.4119873046875\n",
            "low and mid match 3.41204833984375\n"
          ]
        }
      ]
    },
    {
      "cell_type": "code",
      "source": [
        "print('using the auto search code, the results is different compare to the \"eyeball guessing\" result') \n",
        "print('the percentage difference is',(E_mid-3.41204667)/E_mid)\n",
        "\n",
        "print('\\nI tried to change the potential boundary (back and force) form including to excluding \"x=a\" as zero potential, did not observe noticable change.')"
      ],
      "metadata": {
        "colab": {
          "base_uri": "https://localhost:8080/"
        },
        "id": "X-T80b19mw9r",
        "outputId": "01935aa4-420a-4e3c-8620-9a11ed3a9249"
      },
      "execution_count": null,
      "outputs": [
        {
          "output_type": "stream",
          "name": "stdout",
          "text": [
            "using the auto search code, the results is different compare to the \"eyeball guessing\" result\n",
            "the percentage difference is 4.89396275674451e-07\n",
            "\n",
            "I tried to change the potential boundary (back and force) form including to excluding \"x=a\" as zero potential, did not observe noticable change.\n"
          ]
        }
      ]
    },
    {
      "cell_type": "code",
      "source": [
        "V_oo = np.piecewise(x, [x < -a/2, ((-a/2<= x) & (x <= a/2)), x>a/2], [1e4,0,1e4])#[np.Infinity-5, 0, np.Infinity-5])\n",
        "\n",
        "#plt.plot(x,V_oo)"
      ],
      "metadata": {
        "id": "DuGawfE0vyJp"
      },
      "execution_count": null,
      "outputs": []
    },
    {
      "cell_type": "code",
      "source": [
        "psioo = IntegrateTISE(x,V_oo,4.76781765060)\n",
        "plt.plot(x,psioo)\n",
        "plt.xlim(-.75,.75)\n",
        "plt.ylim(-1e80,1e81)\n",
        "''' well, I can't make it better'''"
      ],
      "metadata": {
        "colab": {
          "base_uri": "https://localhost:8080/",
          "height": 294
        },
        "id": "irJEDLZJy5FI",
        "outputId": "bb951847-1435-4aea-a344-bfa82a268a41"
      },
      "execution_count": null,
      "outputs": [
        {
          "output_type": "execute_result",
          "data": {
            "text/plain": [
              "(-1e+80, 1e+81)"
            ]
          },
          "metadata": {},
          "execution_count": 320
        },
        {
          "output_type": "display_data",
          "data": {
            "text/plain": [
              "<Figure size 432x288 with 1 Axes>"
            ],
            "image/png": "[encoded data removed]"
          },
          "metadata": {
            "needs_background": "light"
          }
        }
      ]
    },
    {
      "cell_type": "code",
      "source": [
        "# change the boundary, see what happens to E corresponding the well\n",
        "V_oo1 = np.piecewise(x, [x <= -a/2, ((-a/2< x) & (x < a/2)), x>=a/2], [1e4,0,1e4])#[np.Infinity-5, 0, np.Infinity-5])\n",
        "\n",
        "psioo = IntegrateTISE(x,V_oo,4.76781765060)\n",
        "plt.plot(x,psioo)\n",
        "plt.xlim(-.75,.75)\n",
        "plt.ylim(-1e80,1e81)\n",
        "\n",
        "''' Well, I can't find the diffence '''"
      ],
      "metadata": {
        "colab": {
          "base_uri": "https://localhost:8080/",
          "height": 294
        },
        "id": "Eb1N6JqX4SIR",
        "outputId": "3fe52a5a-657d-47f3-91f5-c0c2fd5947a7"
      },
      "execution_count": null,
      "outputs": [
        {
          "output_type": "execute_result",
          "data": {
            "text/plain": [
              "(-1e+80, 1e+81)"
            ]
          },
          "metadata": {},
          "execution_count": 323
        },
        {
          "output_type": "display_data",
          "data": {
            "text/plain": [
              "<Figure size 432x288 with 1 Axes>"
            ],
            "image/png": "[encoded data removed]"
          },
          "metadata": {
            "needs_background": "light"
          }
        }
      ]
    },
    {
      "cell_type": "code",
      "source": [
        "### Schroeder 2.12 \n",
        "\n",
        "xmin = -5\n",
        "xmax = 6\n",
        "dx = .001\n",
        "a=1\n",
        "\n",
        "x5 = np.arange(xmin,xmax,dx)\n",
        "V5 = np.piecewise(x, [x < -a/2, ((-a/2<= x) & (x <= a/2)), x>a/2], [5, 0, 5])\n",
        "#plt.plot(x,V)\n"
      ],
      "metadata": {
        "id": "pjAzS3Xe5Oll"
      },
      "execution_count": null,
      "outputs": []
    },
    {
      "cell_type": "code",
      "source": [
        "psi5 = IntegrateTISE(x5,V5,1.754886896)\n",
        "plt.plot(x5,psi5)\n",
        "''' \n",
        "From the result(1.75...) we can see the next energy level will have energy 4*1.75= ~ 7 unit, which exceed V=5 thus no longer traped.\n",
        "But, this number wil be smaller than 7 by some factor because it's not a infinate potential well.\n",
        "I'll test it with shooting method to see if there exist one solution for E2.\n",
        "'''"
      ],
      "metadata": {
        "colab": {
          "base_uri": "https://localhost:8080/",
          "height": 301
        },
        "id": "F0Rk5No567hq",
        "outputId": "c9224b3f-a23d-4076-dd24-646f7c189a14"
      },
      "execution_count": null,
      "outputs": [
        {
          "output_type": "execute_result",
          "data": {
            "text/plain": [
              "\" \\nFrom the result(1.75...) we can see the next energy level will have energy 4*1.75= ~ 7 unit, which exceed V=5 thus no longer traped.\\nBut, this number wil be smaller than 7 by some factor because it's not a infinate potential well.\\nI'll test it with shooting method to see if there exist one solution for E2.\\n\""
            ],
            "application/vnd.google.colaboratory.intrinsic+json": {
              "type": "string"
            }
          },
          "metadata": {},
          "execution_count": 409
        },
        {
          "output_type": "display_data",
          "data": {
            "text/plain": [
              "<Figure size 432x288 with 1 Axes>"
            ],
            "image/png": "[encoded data removed]"
          },
          "metadata": {
            "needs_background": "light"
          }
        }
      ]
    },
    {
      "cell_type": "code",
      "source": [
        "#psi5 = IntegrateTISE(x5,V5,5.7)\n",
        "#plt.plot(x5,psi5)\n",
        "'''doesn't seem like it have an avalible second energy state'''"
      ],
      "metadata": {
        "colab": {
          "base_uri": "https://localhost:8080/",
          "height": 35
        },
        "id": "RFYI33CF-NZz",
        "outputId": "a14d81e6-9626-40f4-adcc-c17a4761c867"
      },
      "execution_count": null,
      "outputs": [
        {
          "output_type": "execute_result",
          "data": {
            "text/plain": [
              "\"doesn't seem like it have an avalible second energy state\""
            ],
            "application/vnd.google.colaboratory.intrinsic+json": {
              "type": "string"
            }
          },
          "metadata": {},
          "execution_count": 410
        }
      ]
    },
    {
      "cell_type": "code",
      "source": [
        "x20 = np.arange(-6,6,0.001)\n",
        "V20 = np.piecewise(x20, [x20 < -a/2, ((-a/2 <= x20) & (x20 <= a/2)), x20 > a/2], [2, 0, 2])\n",
        "\n",
        "psi20 = IntegrateTISE(x20,V20,1.092495)\n",
        "plt.plot(x20,psi20)"
      ],
      "metadata": {
        "colab": {
          "base_uri": "https://localhost:8080/",
          "height": 283
        },
        "id": "psny8zu1_0QT",
        "outputId": "9e26c830-2f1e-4718-e636-2ff018e3349c"
      },
      "execution_count": null,
      "outputs": [
        {
          "output_type": "execute_result",
          "data": {
            "text/plain": [
              "[<matplotlib.lines.Line2D at 0x7f4ed6cc22b0>]"
            ]
          },
          "metadata": {},
          "execution_count": 539
        },
        {
          "output_type": "display_data",
          "data": {
            "text/plain": [
              "<Figure size 432x288 with 1 Axes>"
            ],
            "image/png": "[encoded data removed]"
          },
          "metadata": {
            "needs_background": "light"
          }
        }
      ]
    },
    {
      "cell_type": "code",
      "source": [
        "x10 = np.arange(-10,10,0.001)\n",
        "V10 = np.piecewise(x10, [x10 < -a/2, ((-a/2 <= x10) & (x10 <= a/2)), x10 > a/2], [1, 0, 1])\n",
        "\n",
        "psi10 = IntegrateTISE(x10,V10,0.692078)\n",
        "plt.plot(x10,psi10)"
      ],
      "metadata": {
        "colab": {
          "base_uri": "https://localhost:8080/",
          "height": 283
        },
        "id": "JtMPPjchGVma",
        "outputId": "6e1a6033-dba7-41a4-99cf-caaf6bfc1180"
      },
      "execution_count": null,
      "outputs": [
        {
          "output_type": "execute_result",
          "data": {
            "text/plain": [
              "[<matplotlib.lines.Line2D at 0x7f4ed5bc8940>]"
            ]
          },
          "metadata": {},
          "execution_count": 584
        },
        {
          "output_type": "display_data",
          "data": {
            "text/plain": [
              "<Figure size 432x288 with 1 Axes>"
            ],
            "image/png": "[encoded data removed]"
          },
          "metadata": {
            "needs_background": "light"
          }
        }
      ]
    },
    {
      "cell_type": "code",
      "source": [
        "x05 = np.arange(-18,18,0.001)\n",
        "V05 = np.piecewise(x05, [x05 < -a/2, ((-a/2 <= x05) & (x05 <= a/2)), x05 > a/2], [.5, 0, .5])\n",
        "\n",
        "psi05 = IntegrateTISE(x05,V05,0.405331)\n",
        "plt.plot(x05,psi05)"
      ],
      "metadata": {
        "colab": {
          "base_uri": "https://localhost:8080/",
          "height": 283
        },
        "id": "neyYJCNoH096",
        "outputId": "e969c261-1a98-445b-fb3e-f210a2e770a4"
      },
      "execution_count": null,
      "outputs": [
        {
          "output_type": "execute_result",
          "data": {
            "text/plain": [
              "[<matplotlib.lines.Line2D at 0x7f4ed4fe53d0>]"
            ]
          },
          "metadata": {},
          "execution_count": 617
        },
        {
          "output_type": "display_data",
          "data": {
            "text/plain": [
              "<Figure size 432x288 with 1 Axes>"
            ],
            "image/png": "[encoded data removed]"
          },
          "metadata": {
            "needs_background": "light"
          }
        }
      ]
    },
    {
      "cell_type": "code",
      "source": [
        "x02 = np.arange(-35,35,0.001)\n",
        "V02 = np.piecewise(x02, [x02 < -a/2, ((-a/2 <= x02) & (x02 <= a/2)), x02 > a/2], [.2, 0, .2])\n",
        "\n",
        "psi02 = IntegrateTISE(x02,V02,0.182316)\n",
        "plt.plot(x02,psi02)"
      ],
      "metadata": {
        "colab": {
          "base_uri": "https://localhost:8080/",
          "height": 283
        },
        "id": "HQPqoqWHJDaL",
        "outputId": "e9777c1f-459c-49fb-cf94-fd2b3ada56fe"
      },
      "execution_count": null,
      "outputs": [
        {
          "output_type": "execute_result",
          "data": {
            "text/plain": [
              "[<matplotlib.lines.Line2D at 0x7f4ed4246190>]"
            ]
          },
          "metadata": {},
          "execution_count": 650
        },
        {
          "output_type": "display_data",
          "data": {
            "text/plain": [
              "<Figure size 432x288 with 1 Axes>"
            ],
            "image/png": "[encoded data removed]"
          },
          "metadata": {
            "needs_background": "light"
          }
        }
      ]
    },
    {
      "cell_type": "code",
      "source": [
        "x01 = np.arange(-70,70,0.01)\n",
        "V01 = np.piecewise(x01, [x01 < -a/2, ((-a/2 <= x01) & (x01 <= a/2)), x01 > a/2], [.1, 0, .1])\n",
        "\n",
        "psi01 = IntegrateTISE(x01,V01,0.0953097)\n",
        "plt.plot(x01,psi01)"
      ],
      "metadata": {
        "colab": {
          "base_uri": "https://localhost:8080/",
          "height": 283
        },
        "id": "5G6UN3VKKOWq",
        "outputId": "c8d4e6ab-4f51-4e3f-f6ec-fc5272738ff0"
      },
      "execution_count": null,
      "outputs": [
        {
          "output_type": "execute_result",
          "data": {
            "text/plain": [
              "[<matplotlib.lines.Line2D at 0x7f4ed34bdb80>]"
            ]
          },
          "metadata": {},
          "execution_count": 674
        },
        {
          "output_type": "display_data",
          "data": {
            "text/plain": [
              "<Figure size 432x288 with 1 Axes>"
            ],
            "image/png": "[encoded data removed]"
          },
          "metadata": {
            "needs_background": "light"
          }
        }
      ]
    },
    {
      "cell_type": "code",
      "source": [
        "'''\n",
        "As the potential well shallows (V--), the bound state energy decreases while the wave function is more spreaded out (long the a x-axis here).\n",
        "The amount of position wavefunction spreaded outside of the potential well region is (somehow negatively) proportional to the potential.\n",
        "'''"
      ],
      "metadata": {
        "colab": {
          "base_uri": "https://localhost:8080/",
          "height": 53
        },
        "id": "llckbckFZwEF",
        "outputId": "6f26f7c9-0a2d-4e85-c8aa-7b266f65d5b1"
      },
      "execution_count": null,
      "outputs": [
        {
          "output_type": "execute_result",
          "data": {
            "text/plain": [
              "'\\nAs the potential well shallows (V--), the bound state energy decreases while the wave function is more spreaded out (long the a x-axis here).\\nThe amount of position wavefunction spreaded outside of the potential well region is (somehow negatively) proportional to the potential.\\n'"
            ],
            "application/vnd.google.colaboratory.intrinsic+json": {
              "type": "string"
            }
          },
          "metadata": {},
          "execution_count": 675
        }
      ]
    },
    {
      "cell_type": "code",
      "source": [
        "E_low = 0\n",
        "E_high = 2\n",
        "\n",
        "psi_low = IntegrateTISE(x20,V20,E_low)\n",
        "psi_high = IntegrateTISE(x20,V20,E_high)\n",
        "plt.plot(x20,psi_low,x20,psi_high)\n",
        "plt.show()\n",
        "\n",
        "E_mid = (E_high+E_low)/2\n",
        "psi_mid = IntegrateTISE(x20,V20,E_mid)\n",
        "\n",
        "while abs(psi_mid[-1])>100:\n",
        "    if np.sign(psi_mid[-1])==np.sign(psi_low[-1]):\n",
        "        # mid guess and low guess match so new energy is between mid and high \n",
        "        E_low = E_mid\n",
        "        psi_low = psi_mid\n",
        "        E_mid = (E_high+E_low)/2\n",
        "        psi_mid = IntegrateTISE(x20,V20,E_mid)\n",
        "        print('low and mid match',E_mid)\n",
        "    else:\n",
        "        # mid guess and high guess match so new energy is between low and mid\n",
        "        E_high = E_mid\n",
        "        psi_high = psi_mid\n",
        "        E_mid = (E_high+E_low)/2\n",
        "        psi_mid = IntegrateTISE(x20,V20,E_mid)\n",
        "        print('high and mid match',E_mid)"
      ],
      "metadata": {
        "colab": {
          "base_uri": "https://localhost:8080/",
          "height": 265
        },
        "id": "q3CEbXtxB8Pt",
        "outputId": "4250ab3b-fecd-433b-9725-a840a61bebfa"
      },
      "execution_count": null,
      "outputs": [
        {
          "output_type": "display_data",
          "data": {
            "text/plain": [
              "<Figure size 432x288 with 1 Axes>"
            ],
            "image/png": "[encoded data removed]"
          },
          "metadata": {
            "needs_background": "light"
          }
        }
      ]
    },
    {
      "cell_type": "code",
      "source": [
        "### Schroeder 2.13\n",
        "\n",
        "# a) \n",
        "'''\n",
        "for a classical particle(initially moving right), the motion will be linearly slowing dowm to the right (due to pis=a*x), \n",
        "turn around and speed up to the left; as it hits the boundary on the left at x=0, it bounces back (discontinuous?) moving to the right with the same speed\n",
        "\n",
        "maybe the name \"quantum bouncer\" came from this similar behavior of the wave functions amplitude\n",
        "'''\n",
        "\n",
        "# b)\n"
      ],
      "metadata": {
        "id": "AZNG5bpYcnXE"
      },
      "execution_count": null,
      "outputs": []
    }
  ]
}